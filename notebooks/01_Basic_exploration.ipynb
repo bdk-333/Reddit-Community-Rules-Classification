{
 "cells": [
  {
   "cell_type": "code",
   "execution_count": 1,
   "id": "2176a292",
   "metadata": {},
   "outputs": [],
   "source": [
    "import pandas as pd \n",
    "import numpy as np"
   ]
  },
  {
   "cell_type": "code",
   "execution_count": 2,
   "id": "130be9d2",
   "metadata": {},
   "outputs": [
    {
     "data": {
      "application/vnd.microsoft.datawrangler.viewer.v0+json": {
       "columns": [
        {
         "name": "index",
         "rawType": "int64",
         "type": "integer"
        },
        {
         "name": "row_id",
         "rawType": "int64",
         "type": "integer"
        },
        {
         "name": "body",
         "rawType": "object",
         "type": "string"
        },
        {
         "name": "rule",
         "rawType": "object",
         "type": "string"
        },
        {
         "name": "subreddit",
         "rawType": "object",
         "type": "string"
        },
        {
         "name": "positive_example_1",
         "rawType": "object",
         "type": "string"
        },
        {
         "name": "positive_example_2",
         "rawType": "object",
         "type": "string"
        },
        {
         "name": "negative_example_1",
         "rawType": "object",
         "type": "string"
        },
        {
         "name": "negative_example_2",
         "rawType": "object",
         "type": "string"
        },
        {
         "name": "rule_violation",
         "rawType": "int64",
         "type": "integer"
        }
       ],
       "ref": "b54879f9-a117-4b81-b9ae-d44ec81385c2",
       "rows": [
        [
         "0",
         "0",
         "Banks don't want you to know this! Click here to know more!",
         "No Advertising: Spam, referral links, unsolicited advertising, and promotional content are not allowed.",
         "Futurology",
         "If you could tell your younger self something different about sex, what would that be?\n\ni AM IN A CONTEST TO WIN FUNDING FOR MY SEX POSITIVE FILM: VOTE HERE:\n\nhttp://sheknows.offerpop.com/campaign/813112/entry/v144417",
         "hunt for lady for jack off in neighbourhood http://url.inmusi.com/gakq",
         "Watch Golden Globe Awards 2017 Live Online in HD Coverage without ADS (VIP STREAMS)\n=\n\nHD STREAM QUALITY >>> [WATCH LINK1](http://forum.submitexpress.com/viewtopic.php?f=9&t=215858)\n=\n\nHD BROADCASTING QUALITY >>> [WATCH LINK1](http://forum.submitexpress.com/viewtopic.php?f=9&t=215858)\n=\n\nMobile Compatibility: YES\n=\n\nNO ADS | NO ADS | ADS\n=\n",
         "DOUBLE CEE x BANDS EPPS - \"BIRDS\"\n\nDOWNLOAD/STREAM:\n\nhttp://music.theblacksmithed.com/download/birds/",
         "0"
        ],
        [
         "1",
         "1",
         "SD Stream [ ENG Link 1] (http://www.sportsstreams247.com/astra-giurgiu-vs-fc-austria-wien/)",
         "No Advertising: Spam, referral links, unsolicited advertising, and promotional content are not allowed.",
         "soccerstreams",
         "[I wanna kiss you all over! Stunning!](http://www.oilflush.life/2017/01/26/6/)",
         "LOLGA.COM is One of the First Professional Online Gold sites. By Now, As A Game Gold Seller, we've over more than 5 yrs Of Experience And Can Pass That On To Our Customers.",
         "#Rapper \n🚨Straight Outta Cross Keys SC 🚨YouTube Search Beanie 864 Click Link BELOW To Hear Hit Single\n  \"Ah Man\" \n Beanie 864 FEAT King Kota \n (King Kota Is Only 15!) Lit 🌡🔥👍💵💯Fr Fr \nhttps://youtu.be/tLqbV1Jmt5Y",
         "[15 Amazing Hidden Features Of Google Search You Probably Don’t Know](http://www.madpeoples.com/2017/01/02  No one would argue the fact that Google is one of the most useful sihttp://www.madpeoples.com/2016/12/31/15-amazing-hidden-features-of-google-search-you-probably-dont-know/tes on the Internet. Unfortunately, most people only use about...?utm_source=reddit&utm_campaign=samreen&utm_medium=cpc)",
         "0"
        ],
        [
         "2",
         "2",
         "Lol. Try appealing the ban and say you won't do it again.",
         "No legal advice: Do not offer or request legal advice.",
         "pcmasterrace",
         "Don't break up with him or call the cops.  If you are willing to get beat up by him to stay with him, he is obviously a real winner and you know it, so you shouldn't leave him.",
         "It'll be dismissed: https://en.wikipedia.org/wiki/New_York_Times_Co._v._Sullivan\n\nThe first amendment law here is SUPER settled.",
         "Where is there a site that still works where you can jump the GPS. Is there a FAQ to do this with iPhone or Mac?",
         "Because this statement of his is true. It isn't freedom of the press, it's libel. And because of this, your post serves as a promotion for Trump. Reported.",
         "1"
        ],
        [
         "3",
         "3",
         "she will come your home open her legs with  and  you http://sh.ors.it/PALI2",
         "No Advertising: Spam, referral links, unsolicited advertising, and promotional content are not allowed.",
         "sex",
         "Selling Tyrande codes for 3€ to paypal. PM. \nhttp://imgur.com/a/IMARW",
         "tight pussy watch for your cock get her at this point http://macanasmagazine.com/yourls/hnof",
         "NSFW(obviously) http://spankbang.com/iy3u/video/marica+hase+mirrors+edge",
         "Good News ::Download WhatsApp 2.16.230 APK for Android – Latest Version",
         "1"
        ],
        [
         "4",
         "4",
         "code free tyrande --->>> [Imgur](http://i.imgur.com/KlvssCl.png)\n\nfor you and your friend 2 codes for 4 dollars https://www.paypal.com/cgi-bin/webscr?cmd=_s-xclick&hosted_button_id=UN4E27AG7BWKS\n\n2$... buy one directly from here: https://www.paypal.com/cgi-bin/webscr?cmd=_s-xclick&hosted_button_id=VP3S5HQRE7T7E\n",
         "No Advertising: Spam, referral links, unsolicited advertising, and promotional content are not allowed.",
         "hearthstone",
         " wow!! amazing reminds me of the old days.Well Do you desire a great spell caster and a herbal doctor to help you solve any problem you are going through? i am a proud testimony of what king favour solution temple has offered me. Contact him now at kingfavoursolutiontemple@yahoo.com You will be the next to testify.bye everyone",
         "seek for lady for sex in around http://p77.pl/12yb9",
         "must be watch movie https://sites.google.com/site/greatescape1963xx/-jagten-2012-full-movie",
         "We're streaming Pokemon Veitnamese Crystal RIGHT NOW, come watch https://www.twitch.tv/adandyguyinspace55.",
         "1"
        ]
       ],
       "shape": {
        "columns": 9,
        "rows": 5
       }
      },
      "text/html": [
       "<div>\n",
       "<style scoped>\n",
       "    .dataframe tbody tr th:only-of-type {\n",
       "        vertical-align: middle;\n",
       "    }\n",
       "\n",
       "    .dataframe tbody tr th {\n",
       "        vertical-align: top;\n",
       "    }\n",
       "\n",
       "    .dataframe thead th {\n",
       "        text-align: right;\n",
       "    }\n",
       "</style>\n",
       "<table border=\"1\" class=\"dataframe\">\n",
       "  <thead>\n",
       "    <tr style=\"text-align: right;\">\n",
       "      <th></th>\n",
       "      <th>row_id</th>\n",
       "      <th>body</th>\n",
       "      <th>rule</th>\n",
       "      <th>subreddit</th>\n",
       "      <th>positive_example_1</th>\n",
       "      <th>positive_example_2</th>\n",
       "      <th>negative_example_1</th>\n",
       "      <th>negative_example_2</th>\n",
       "      <th>rule_violation</th>\n",
       "    </tr>\n",
       "  </thead>\n",
       "  <tbody>\n",
       "    <tr>\n",
       "      <th>0</th>\n",
       "      <td>0</td>\n",
       "      <td>Banks don't want you to know this! Click here ...</td>\n",
       "      <td>No Advertising: Spam, referral links, unsolici...</td>\n",
       "      <td>Futurology</td>\n",
       "      <td>If you could tell your younger self something ...</td>\n",
       "      <td>hunt for lady for jack off in neighbourhood ht...</td>\n",
       "      <td>Watch Golden Globe Awards 2017 Live Online in ...</td>\n",
       "      <td>DOUBLE CEE x BANDS EPPS - \"BIRDS\"\\n\\nDOWNLOAD/...</td>\n",
       "      <td>0</td>\n",
       "    </tr>\n",
       "    <tr>\n",
       "      <th>1</th>\n",
       "      <td>1</td>\n",
       "      <td>SD Stream [ ENG Link 1] (http://www.sportsstre...</td>\n",
       "      <td>No Advertising: Spam, referral links, unsolici...</td>\n",
       "      <td>soccerstreams</td>\n",
       "      <td>[I wanna kiss you all over! Stunning!](http://...</td>\n",
       "      <td>LOLGA.COM is One of the First Professional Onl...</td>\n",
       "      <td>#Rapper \\n🚨Straight Outta Cross Keys SC 🚨YouTu...</td>\n",
       "      <td>[15 Amazing Hidden Features Of Google Search Y...</td>\n",
       "      <td>0</td>\n",
       "    </tr>\n",
       "    <tr>\n",
       "      <th>2</th>\n",
       "      <td>2</td>\n",
       "      <td>Lol. Try appealing the ban and say you won't d...</td>\n",
       "      <td>No legal advice: Do not offer or request legal...</td>\n",
       "      <td>pcmasterrace</td>\n",
       "      <td>Don't break up with him or call the cops.  If ...</td>\n",
       "      <td>It'll be dismissed: https://en.wikipedia.org/w...</td>\n",
       "      <td>Where is there a site that still works where y...</td>\n",
       "      <td>Because this statement of his is true. It isn'...</td>\n",
       "      <td>1</td>\n",
       "    </tr>\n",
       "    <tr>\n",
       "      <th>3</th>\n",
       "      <td>3</td>\n",
       "      <td>she will come your home open her legs with  an...</td>\n",
       "      <td>No Advertising: Spam, referral links, unsolici...</td>\n",
       "      <td>sex</td>\n",
       "      <td>Selling Tyrande codes for 3€ to paypal. PM. \\n...</td>\n",
       "      <td>tight pussy watch for your cock get her at thi...</td>\n",
       "      <td>NSFW(obviously) http://spankbang.com/iy3u/vide...</td>\n",
       "      <td>Good News ::Download WhatsApp 2.16.230 APK for...</td>\n",
       "      <td>1</td>\n",
       "    </tr>\n",
       "    <tr>\n",
       "      <th>4</th>\n",
       "      <td>4</td>\n",
       "      <td>code free tyrande ---&gt;&gt;&gt; [Imgur](http://i.imgu...</td>\n",
       "      <td>No Advertising: Spam, referral links, unsolici...</td>\n",
       "      <td>hearthstone</td>\n",
       "      <td>wow!! amazing reminds me of the old days.Well...</td>\n",
       "      <td>seek for lady for sex in around http://p77.pl/...</td>\n",
       "      <td>must be watch movie https://sites.google.com/s...</td>\n",
       "      <td>We're streaming Pokemon Veitnamese Crystal RIG...</td>\n",
       "      <td>1</td>\n",
       "    </tr>\n",
       "  </tbody>\n",
       "</table>\n",
       "</div>"
      ],
      "text/plain": [
       "   row_id                                               body  \\\n",
       "0       0  Banks don't want you to know this! Click here ...   \n",
       "1       1  SD Stream [ ENG Link 1] (http://www.sportsstre...   \n",
       "2       2  Lol. Try appealing the ban and say you won't d...   \n",
       "3       3  she will come your home open her legs with  an...   \n",
       "4       4  code free tyrande --->>> [Imgur](http://i.imgu...   \n",
       "\n",
       "                                                rule      subreddit  \\\n",
       "0  No Advertising: Spam, referral links, unsolici...     Futurology   \n",
       "1  No Advertising: Spam, referral links, unsolici...  soccerstreams   \n",
       "2  No legal advice: Do not offer or request legal...   pcmasterrace   \n",
       "3  No Advertising: Spam, referral links, unsolici...            sex   \n",
       "4  No Advertising: Spam, referral links, unsolici...    hearthstone   \n",
       "\n",
       "                                  positive_example_1  \\\n",
       "0  If you could tell your younger self something ...   \n",
       "1  [I wanna kiss you all over! Stunning!](http://...   \n",
       "2  Don't break up with him or call the cops.  If ...   \n",
       "3  Selling Tyrande codes for 3€ to paypal. PM. \\n...   \n",
       "4   wow!! amazing reminds me of the old days.Well...   \n",
       "\n",
       "                                  positive_example_2  \\\n",
       "0  hunt for lady for jack off in neighbourhood ht...   \n",
       "1  LOLGA.COM is One of the First Professional Onl...   \n",
       "2  It'll be dismissed: https://en.wikipedia.org/w...   \n",
       "3  tight pussy watch for your cock get her at thi...   \n",
       "4  seek for lady for sex in around http://p77.pl/...   \n",
       "\n",
       "                                  negative_example_1  \\\n",
       "0  Watch Golden Globe Awards 2017 Live Online in ...   \n",
       "1  #Rapper \\n🚨Straight Outta Cross Keys SC 🚨YouTu...   \n",
       "2  Where is there a site that still works where y...   \n",
       "3  NSFW(obviously) http://spankbang.com/iy3u/vide...   \n",
       "4  must be watch movie https://sites.google.com/s...   \n",
       "\n",
       "                                  negative_example_2  rule_violation  \n",
       "0  DOUBLE CEE x BANDS EPPS - \"BIRDS\"\\n\\nDOWNLOAD/...               0  \n",
       "1  [15 Amazing Hidden Features Of Google Search Y...               0  \n",
       "2  Because this statement of his is true. It isn'...               1  \n",
       "3  Good News ::Download WhatsApp 2.16.230 APK for...               1  \n",
       "4  We're streaming Pokemon Veitnamese Crystal RIG...               1  "
      ]
     },
     "execution_count": 2,
     "metadata": {},
     "output_type": "execute_result"
    }
   ],
   "source": [
    "df = pd.read_csv(\"../data/train.csv\")\n",
    "df.head()"
   ]
  },
  {
   "cell_type": "code",
   "execution_count": 3,
   "id": "4595d52b",
   "metadata": {},
   "outputs": [
    {
     "data": {
      "text/plain": [
       "(2029, 9)"
      ]
     },
     "execution_count": 3,
     "metadata": {},
     "output_type": "execute_result"
    }
   ],
   "source": [
    "df.shape"
   ]
  },
  {
   "cell_type": "code",
   "execution_count": 4,
   "id": "228f2e2d",
   "metadata": {},
   "outputs": [],
   "source": [
    "df = df.drop(columns=[\"row_id\"])"
   ]
  },
  {
   "cell_type": "code",
   "execution_count": 5,
   "id": "ee5eece3",
   "metadata": {},
   "outputs": [
    {
     "data": {
      "application/vnd.microsoft.datawrangler.viewer.v0+json": {
       "columns": [
        {
         "name": "subreddit",
         "rawType": "object",
         "type": "string"
        },
        {
         "name": "count",
         "rawType": "int64",
         "type": "integer"
        }
       ],
       "ref": "4d24c666-c97c-4b0a-9c3c-73bb26665d35",
       "rows": [
        [
         "legaladvice",
         "213"
        ],
        [
         "AskReddit",
         "152"
        ],
        [
         "soccerstreams",
         "139"
        ],
        [
         "personalfinance",
         "125"
        ],
        [
         "relationships",
         "106"
        ],
        [
         "The_Donald",
         "94"
        ],
        [
         "TwoXChromosomes",
         "87"
        ],
        [
         "news",
         "65"
        ],
        [
         "movies",
         "56"
        ],
        [
         "videos",
         "50"
        ],
        [
         "worldnews",
         "49"
        ],
        [
         "politics",
         "49"
        ],
        [
         "sex",
         "42"
        ],
        [
         "science",
         "32"
        ],
        [
         "pokemongo",
         "30"
        ],
        [
         "pics",
         "30"
        ],
        [
         "Showerthoughts",
         "29"
        ],
        [
         "GlobalOffensiveTrade",
         "26"
        ],
        [
         "funny",
         "22"
        ],
        [
         "pokemon",
         "22"
        ],
        [
         "hillaryclinton",
         "22"
        ],
        [
         "hearthstone",
         "22"
        ],
        [
         "gifs",
         "21"
        ],
        [
         "churning",
         "21"
        ],
        [
         "gonewild",
         "19"
        ],
        [
         "GlobalOffensive",
         "18"
        ],
        [
         "aww",
         "18"
        ],
        [
         "depression",
         "18"
        ],
        [
         "pcmasterrace",
         "16"
        ],
        [
         "gaming",
         "15"
        ],
        [
         "Overwatch",
         "14"
        ],
        [
         "leagueoflegends",
         "14"
        ],
        [
         "explainlikeimfive",
         "14"
        ],
        [
         "LifeProTips",
         "14"
        ],
        [
         "NSFW_GIF",
         "13"
        ],
        [
         "jailbreak",
         "13"
        ],
        [
         "nosleep",
         "12"
        ],
        [
         "nottheonion",
         "11"
        ],
        [
         "DIY",
         "11"
        ],
        [
         "canada",
         "11"
        ],
        [
         "books",
         "11"
        ],
        [
         "OldSchoolCool",
         "10"
        ],
        [
         "whatisthisthing",
         "10"
        ],
        [
         "dataisbeautiful",
         "10"
        ],
        [
         "SandersForPresident",
         "9"
        ],
        [
         "creepyPMs",
         "9"
        ],
        [
         "MMA",
         "9"
        ],
        [
         "CFB",
         "9"
        ],
        [
         "EnoughTrumpSpam",
         "9"
        ],
        [
         "NeutralPolitics",
         "8"
        ]
       ],
       "shape": {
        "columns": 1,
        "rows": 100
       }
      },
      "text/plain": [
       "subreddit\n",
       "legaladvice         213\n",
       "AskReddit           152\n",
       "soccerstreams       139\n",
       "personalfinance     125\n",
       "relationships       106\n",
       "                   ... \n",
       "fantasyfootball       1\n",
       "PurplePillDebate      1\n",
       "changemyview          1\n",
       "IAmA                  1\n",
       "TheSilphRoad          1\n",
       "Name: count, Length: 100, dtype: int64"
      ]
     },
     "execution_count": 5,
     "metadata": {},
     "output_type": "execute_result"
    }
   ],
   "source": [
    "df['subreddit'].value_counts()"
   ]
  },
  {
   "cell_type": "code",
   "execution_count": 6,
   "id": "2597cd6f",
   "metadata": {},
   "outputs": [
    {
     "data": {
      "application/vnd.microsoft.datawrangler.viewer.v0+json": {
       "columns": [
        {
         "name": "rule",
         "rawType": "object",
         "type": "string"
        },
        {
         "name": "count",
         "rawType": "int64",
         "type": "integer"
        }
       ],
       "ref": "2a549bca-0bf4-4425-8e3e-f4a12ca7ef11",
       "rows": [
        [
         "No legal advice: Do not offer or request legal advice.",
         "1017"
        ],
        [
         "No Advertising: Spam, referral links, unsolicited advertising, and promotional content are not allowed.",
         "1012"
        ]
       ],
       "shape": {
        "columns": 1,
        "rows": 2
       }
      },
      "text/plain": [
       "rule\n",
       "No legal advice: Do not offer or request legal advice.                                                     1017\n",
       "No Advertising: Spam, referral links, unsolicited advertising, and promotional content are not allowed.    1012\n",
       "Name: count, dtype: int64"
      ]
     },
     "execution_count": 6,
     "metadata": {},
     "output_type": "execute_result"
    }
   ],
   "source": [
    "df['rule'].value_counts()"
   ]
  },
  {
   "cell_type": "code",
   "execution_count": 7,
   "id": "b0ade20e",
   "metadata": {},
   "outputs": [
    {
     "data": {
      "application/vnd.microsoft.datawrangler.viewer.v0+json": {
       "columns": [
        {
         "name": "rule_violation",
         "rawType": "int64",
         "type": "integer"
        },
        {
         "name": "count",
         "rawType": "int64",
         "type": "integer"
        }
       ],
       "ref": "638e93c3-3221-4bc4-83de-8bb7f6621eb2",
       "rows": [
        [
         "1",
         "1031"
        ],
        [
         "0",
         "998"
        ]
       ],
       "shape": {
        "columns": 1,
        "rows": 2
       }
      },
      "text/plain": [
       "rule_violation\n",
       "1    1031\n",
       "0     998\n",
       "Name: count, dtype: int64"
      ]
     },
     "execution_count": 7,
     "metadata": {},
     "output_type": "execute_result"
    }
   ],
   "source": [
    "df['rule_violation'].value_counts()"
   ]
  },
  {
   "cell_type": "markdown",
   "id": "dfe3f306",
   "metadata": {},
   "source": [
    "### Sub-reddit rules:\n",
    "\n",
    "No legal advice: Do not offer or request legal advice.<br>\n",
    "No Advertising: Spam, referral links, unsolicited advertising, and promotional content are not allowed."
   ]
  },
  {
   "cell_type": "code",
   "execution_count": 8,
   "id": "3dc9ddbd",
   "metadata": {},
   "outputs": [
    {
     "data": {
      "application/vnd.microsoft.datawrangler.viewer.v0+json": {
       "columns": [
        {
         "name": "index",
         "rawType": "object",
         "type": "string"
        },
        {
         "name": "0",
         "rawType": "int64",
         "type": "integer"
        }
       ],
       "ref": "ca8bd600-38e3-4b3a-89cf-40b93c129adb",
       "rows": [
        [
         "body",
         "0"
        ],
        [
         "rule",
         "0"
        ],
        [
         "subreddit",
         "0"
        ],
        [
         "positive_example_1",
         "0"
        ],
        [
         "positive_example_2",
         "0"
        ],
        [
         "negative_example_1",
         "0"
        ],
        [
         "negative_example_2",
         "0"
        ],
        [
         "rule_violation",
         "0"
        ]
       ],
       "shape": {
        "columns": 1,
        "rows": 8
       }
      },
      "text/plain": [
       "body                  0\n",
       "rule                  0\n",
       "subreddit             0\n",
       "positive_example_1    0\n",
       "positive_example_2    0\n",
       "negative_example_1    0\n",
       "negative_example_2    0\n",
       "rule_violation        0\n",
       "dtype: int64"
      ]
     },
     "execution_count": 8,
     "metadata": {},
     "output_type": "execute_result"
    }
   ],
   "source": [
    "df.isna().sum()"
   ]
  },
  {
   "cell_type": "code",
   "execution_count": null,
   "id": "48c38ccd",
   "metadata": {},
   "outputs": [],
   "source": []
  }
 ],
 "metadata": {
  "kernelspec": {
   "display_name": "base",
   "language": "python",
   "name": "python3"
  },
  "language_info": {
   "codemirror_mode": {
    "name": "ipython",
    "version": 3
   },
   "file_extension": ".py",
   "mimetype": "text/x-python",
   "name": "python",
   "nbconvert_exporter": "python",
   "pygments_lexer": "ipython3",
   "version": "3.12.7"
  }
 },
 "nbformat": 4,
 "nbformat_minor": 5
}
