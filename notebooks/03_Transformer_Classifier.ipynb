{
 "cells": [
  {
   "cell_type": "code",
   "execution_count": 1,
   "id": "931cdbf5",
   "metadata": {},
   "outputs": [],
   "source": [
    "import pandas as pd\n",
    "import numpy as np\n",
    "import re\n",
    "import evaluate\n",
    "from sklearn.model_selection import train_test_split\n",
    "from sklearn.metrics import classification_report\n",
    "from datasets import Dataset\n",
    "from transformers import AutoTokenizer, AutoModelForSequenceClassification, TrainingArguments, Trainer"
   ]
  },
  {
   "cell_type": "code",
   "execution_count": 2,
   "id": "2ed351d2",
   "metadata": {},
   "outputs": [
    {
     "data": {
      "application/vnd.microsoft.datawrangler.viewer.v0+json": {
       "columns": [
        {
         "name": "index",
         "rawType": "int64",
         "type": "integer"
        },
        {
         "name": "row_id",
         "rawType": "int64",
         "type": "integer"
        },
        {
         "name": "body",
         "rawType": "object",
         "type": "string"
        },
        {
         "name": "rule",
         "rawType": "object",
         "type": "string"
        },
        {
         "name": "subreddit",
         "rawType": "object",
         "type": "string"
        },
        {
         "name": "positive_example_1",
         "rawType": "object",
         "type": "string"
        },
        {
         "name": "positive_example_2",
         "rawType": "object",
         "type": "string"
        },
        {
         "name": "negative_example_1",
         "rawType": "object",
         "type": "string"
        },
        {
         "name": "negative_example_2",
         "rawType": "object",
         "type": "string"
        },
        {
         "name": "rule_violation",
         "rawType": "int64",
         "type": "integer"
        }
       ],
       "ref": "8f54633f-6f71-4743-aaf1-9f28accdfe4c",
       "rows": [
        [
         "0",
         "0",
         "Banks don't want you to know this! Click here to know more!",
         "No Advertising: Spam, referral links, unsolicited advertising, and promotional content are not allowed.",
         "Futurology",
         "If you could tell your younger self something different about sex, what would that be?\n\ni AM IN A CONTEST TO WIN FUNDING FOR MY SEX POSITIVE FILM: VOTE HERE:\n\nhttp://sheknows.offerpop.com/campaign/813112/entry/v144417",
         "hunt for lady for jack off in neighbourhood http://url.inmusi.com/gakq",
         "Watch Golden Globe Awards 2017 Live Online in HD Coverage without ADS (VIP STREAMS)\n=\n\nHD STREAM QUALITY >>> [WATCH LINK1](http://forum.submitexpress.com/viewtopic.php?f=9&t=215858)\n=\n\nHD BROADCASTING QUALITY >>> [WATCH LINK1](http://forum.submitexpress.com/viewtopic.php?f=9&t=215858)\n=\n\nMobile Compatibility: YES\n=\n\nNO ADS | NO ADS | ADS\n=\n",
         "DOUBLE CEE x BANDS EPPS - \"BIRDS\"\n\nDOWNLOAD/STREAM:\n\nhttp://music.theblacksmithed.com/download/birds/",
         "0"
        ],
        [
         "1",
         "1",
         "SD Stream [ ENG Link 1] (http://www.sportsstreams247.com/astra-giurgiu-vs-fc-austria-wien/)",
         "No Advertising: Spam, referral links, unsolicited advertising, and promotional content are not allowed.",
         "soccerstreams",
         "[I wanna kiss you all over! Stunning!](http://www.oilflush.life/2017/01/26/6/)",
         "LOLGA.COM is One of the First Professional Online Gold sites. By Now, As A Game Gold Seller, we've over more than 5 yrs Of Experience And Can Pass That On To Our Customers.",
         "#Rapper \n🚨Straight Outta Cross Keys SC 🚨YouTube Search Beanie 864 Click Link BELOW To Hear Hit Single\n  \"Ah Man\" \n Beanie 864 FEAT King Kota \n (King Kota Is Only 15!) Lit 🌡🔥👍💵💯Fr Fr \nhttps://youtu.be/tLqbV1Jmt5Y",
         "[15 Amazing Hidden Features Of Google Search You Probably Don’t Know](http://www.madpeoples.com/2017/01/02  No one would argue the fact that Google is one of the most useful sihttp://www.madpeoples.com/2016/12/31/15-amazing-hidden-features-of-google-search-you-probably-dont-know/tes on the Internet. Unfortunately, most people only use about...?utm_source=reddit&utm_campaign=samreen&utm_medium=cpc)",
         "0"
        ],
        [
         "2",
         "2",
         "Lol. Try appealing the ban and say you won't do it again.",
         "No legal advice: Do not offer or request legal advice.",
         "pcmasterrace",
         "Don't break up with him or call the cops.  If you are willing to get beat up by him to stay with him, he is obviously a real winner and you know it, so you shouldn't leave him.",
         "It'll be dismissed: https://en.wikipedia.org/wiki/New_York_Times_Co._v._Sullivan\n\nThe first amendment law here is SUPER settled.",
         "Where is there a site that still works where you can jump the GPS. Is there a FAQ to do this with iPhone or Mac?",
         "Because this statement of his is true. It isn't freedom of the press, it's libel. And because of this, your post serves as a promotion for Trump. Reported.",
         "1"
        ],
        [
         "3",
         "3",
         "she will come your home open her legs with  and  you http://sh.ors.it/PALI2",
         "No Advertising: Spam, referral links, unsolicited advertising, and promotional content are not allowed.",
         "sex",
         "Selling Tyrande codes for 3€ to paypal. PM. \nhttp://imgur.com/a/IMARW",
         "tight pussy watch for your cock get her at this point http://macanasmagazine.com/yourls/hnof",
         "NSFW(obviously) http://spankbang.com/iy3u/video/marica+hase+mirrors+edge",
         "Good News ::Download WhatsApp 2.16.230 APK for Android – Latest Version",
         "1"
        ],
        [
         "4",
         "4",
         "code free tyrande --->>> [Imgur](http://i.imgur.com/KlvssCl.png)\n\nfor you and your friend 2 codes for 4 dollars https://www.paypal.com/cgi-bin/webscr?cmd=_s-xclick&hosted_button_id=UN4E27AG7BWKS\n\n2$... buy one directly from here: https://www.paypal.com/cgi-bin/webscr?cmd=_s-xclick&hosted_button_id=VP3S5HQRE7T7E\n",
         "No Advertising: Spam, referral links, unsolicited advertising, and promotional content are not allowed.",
         "hearthstone",
         " wow!! amazing reminds me of the old days.Well Do you desire a great spell caster and a herbal doctor to help you solve any problem you are going through? i am a proud testimony of what king favour solution temple has offered me. Contact him now at kingfavoursolutiontemple@yahoo.com You will be the next to testify.bye everyone",
         "seek for lady for sex in around http://p77.pl/12yb9",
         "must be watch movie https://sites.google.com/site/greatescape1963xx/-jagten-2012-full-movie",
         "We're streaming Pokemon Veitnamese Crystal RIGHT NOW, come watch https://www.twitch.tv/adandyguyinspace55.",
         "1"
        ]
       ],
       "shape": {
        "columns": 9,
        "rows": 5
       }
      },
      "text/html": [
       "<div>\n",
       "<style scoped>\n",
       "    .dataframe tbody tr th:only-of-type {\n",
       "        vertical-align: middle;\n",
       "    }\n",
       "\n",
       "    .dataframe tbody tr th {\n",
       "        vertical-align: top;\n",
       "    }\n",
       "\n",
       "    .dataframe thead th {\n",
       "        text-align: right;\n",
       "    }\n",
       "</style>\n",
       "<table border=\"1\" class=\"dataframe\">\n",
       "  <thead>\n",
       "    <tr style=\"text-align: right;\">\n",
       "      <th></th>\n",
       "      <th>row_id</th>\n",
       "      <th>body</th>\n",
       "      <th>rule</th>\n",
       "      <th>subreddit</th>\n",
       "      <th>positive_example_1</th>\n",
       "      <th>positive_example_2</th>\n",
       "      <th>negative_example_1</th>\n",
       "      <th>negative_example_2</th>\n",
       "      <th>rule_violation</th>\n",
       "    </tr>\n",
       "  </thead>\n",
       "  <tbody>\n",
       "    <tr>\n",
       "      <th>0</th>\n",
       "      <td>0</td>\n",
       "      <td>Banks don't want you to know this! Click here ...</td>\n",
       "      <td>No Advertising: Spam, referral links, unsolici...</td>\n",
       "      <td>Futurology</td>\n",
       "      <td>If you could tell your younger self something ...</td>\n",
       "      <td>hunt for lady for jack off in neighbourhood ht...</td>\n",
       "      <td>Watch Golden Globe Awards 2017 Live Online in ...</td>\n",
       "      <td>DOUBLE CEE x BANDS EPPS - \"BIRDS\"\\n\\nDOWNLOAD/...</td>\n",
       "      <td>0</td>\n",
       "    </tr>\n",
       "    <tr>\n",
       "      <th>1</th>\n",
       "      <td>1</td>\n",
       "      <td>SD Stream [ ENG Link 1] (http://www.sportsstre...</td>\n",
       "      <td>No Advertising: Spam, referral links, unsolici...</td>\n",
       "      <td>soccerstreams</td>\n",
       "      <td>[I wanna kiss you all over! Stunning!](http://...</td>\n",
       "      <td>LOLGA.COM is One of the First Professional Onl...</td>\n",
       "      <td>#Rapper \\n🚨Straight Outta Cross Keys SC 🚨YouTu...</td>\n",
       "      <td>[15 Amazing Hidden Features Of Google Search Y...</td>\n",
       "      <td>0</td>\n",
       "    </tr>\n",
       "    <tr>\n",
       "      <th>2</th>\n",
       "      <td>2</td>\n",
       "      <td>Lol. Try appealing the ban and say you won't d...</td>\n",
       "      <td>No legal advice: Do not offer or request legal...</td>\n",
       "      <td>pcmasterrace</td>\n",
       "      <td>Don't break up with him or call the cops.  If ...</td>\n",
       "      <td>It'll be dismissed: https://en.wikipedia.org/w...</td>\n",
       "      <td>Where is there a site that still works where y...</td>\n",
       "      <td>Because this statement of his is true. It isn'...</td>\n",
       "      <td>1</td>\n",
       "    </tr>\n",
       "    <tr>\n",
       "      <th>3</th>\n",
       "      <td>3</td>\n",
       "      <td>she will come your home open her legs with  an...</td>\n",
       "      <td>No Advertising: Spam, referral links, unsolici...</td>\n",
       "      <td>sex</td>\n",
       "      <td>Selling Tyrande codes for 3€ to paypal. PM. \\n...</td>\n",
       "      <td>tight pussy watch for your cock get her at thi...</td>\n",
       "      <td>NSFW(obviously) http://spankbang.com/iy3u/vide...</td>\n",
       "      <td>Good News ::Download WhatsApp 2.16.230 APK for...</td>\n",
       "      <td>1</td>\n",
       "    </tr>\n",
       "    <tr>\n",
       "      <th>4</th>\n",
       "      <td>4</td>\n",
       "      <td>code free tyrande ---&gt;&gt;&gt; [Imgur](http://i.imgu...</td>\n",
       "      <td>No Advertising: Spam, referral links, unsolici...</td>\n",
       "      <td>hearthstone</td>\n",
       "      <td>wow!! amazing reminds me of the old days.Well...</td>\n",
       "      <td>seek for lady for sex in around http://p77.pl/...</td>\n",
       "      <td>must be watch movie https://sites.google.com/s...</td>\n",
       "      <td>We're streaming Pokemon Veitnamese Crystal RIG...</td>\n",
       "      <td>1</td>\n",
       "    </tr>\n",
       "  </tbody>\n",
       "</table>\n",
       "</div>"
      ],
      "text/plain": [
       "   row_id                                               body  \\\n",
       "0       0  Banks don't want you to know this! Click here ...   \n",
       "1       1  SD Stream [ ENG Link 1] (http://www.sportsstre...   \n",
       "2       2  Lol. Try appealing the ban and say you won't d...   \n",
       "3       3  she will come your home open her legs with  an...   \n",
       "4       4  code free tyrande --->>> [Imgur](http://i.imgu...   \n",
       "\n",
       "                                                rule      subreddit  \\\n",
       "0  No Advertising: Spam, referral links, unsolici...     Futurology   \n",
       "1  No Advertising: Spam, referral links, unsolici...  soccerstreams   \n",
       "2  No legal advice: Do not offer or request legal...   pcmasterrace   \n",
       "3  No Advertising: Spam, referral links, unsolici...            sex   \n",
       "4  No Advertising: Spam, referral links, unsolici...    hearthstone   \n",
       "\n",
       "                                  positive_example_1  \\\n",
       "0  If you could tell your younger self something ...   \n",
       "1  [I wanna kiss you all over! Stunning!](http://...   \n",
       "2  Don't break up with him or call the cops.  If ...   \n",
       "3  Selling Tyrande codes for 3€ to paypal. PM. \\n...   \n",
       "4   wow!! amazing reminds me of the old days.Well...   \n",
       "\n",
       "                                  positive_example_2  \\\n",
       "0  hunt for lady for jack off in neighbourhood ht...   \n",
       "1  LOLGA.COM is One of the First Professional Onl...   \n",
       "2  It'll be dismissed: https://en.wikipedia.org/w...   \n",
       "3  tight pussy watch for your cock get her at thi...   \n",
       "4  seek for lady for sex in around http://p77.pl/...   \n",
       "\n",
       "                                  negative_example_1  \\\n",
       "0  Watch Golden Globe Awards 2017 Live Online in ...   \n",
       "1  #Rapper \\n🚨Straight Outta Cross Keys SC 🚨YouTu...   \n",
       "2  Where is there a site that still works where y...   \n",
       "3  NSFW(obviously) http://spankbang.com/iy3u/vide...   \n",
       "4  must be watch movie https://sites.google.com/s...   \n",
       "\n",
       "                                  negative_example_2  rule_violation  \n",
       "0  DOUBLE CEE x BANDS EPPS - \"BIRDS\"\\n\\nDOWNLOAD/...               0  \n",
       "1  [15 Amazing Hidden Features Of Google Search Y...               0  \n",
       "2  Because this statement of his is true. It isn'...               1  \n",
       "3  Good News ::Download WhatsApp 2.16.230 APK for...               1  \n",
       "4  We're streaming Pokemon Veitnamese Crystal RIG...               1  "
      ]
     },
     "execution_count": 2,
     "metadata": {},
     "output_type": "execute_result"
    }
   ],
   "source": [
    "df = pd.read_csv(\"../data/train.csv\")\n",
    "df.head()"
   ]
  },
  {
   "cell_type": "code",
   "execution_count": 3,
   "id": "40755bff",
   "metadata": {},
   "outputs": [],
   "source": [
    "df = df.drop(columns=[\"row_id\"])"
   ]
  },
  {
   "cell_type": "code",
   "execution_count": 27,
   "id": "9ab79c74",
   "metadata": {},
   "outputs": [],
   "source": [
    "df = df.rename(columns={\"rule_violation\": \"label\"})"
   ]
  },
  {
   "cell_type": "code",
   "execution_count": 4,
   "id": "0b55525a",
   "metadata": {},
   "outputs": [
    {
     "data": {
      "text/plain": [
       "['body',\n",
       " 'rule',\n",
       " 'subreddit',\n",
       " 'positive_example_1',\n",
       " 'positive_example_2',\n",
       " 'negative_example_1',\n",
       " 'negative_example_2']"
      ]
     },
     "execution_count": 4,
     "metadata": {},
     "output_type": "execute_result"
    }
   ],
   "source": [
    "features = df.columns.tolist()\n",
    "features.remove(\"rule_violation\")\n",
    "features"
   ]
  },
  {
   "cell_type": "code",
   "execution_count": 5,
   "id": "cf989eef",
   "metadata": {},
   "outputs": [
    {
     "data": {
      "application/vnd.microsoft.datawrangler.viewer.v0+json": {
       "columns": [
        {
         "name": "rule_violation",
         "rawType": "int64",
         "type": "integer"
        },
        {
         "name": "count",
         "rawType": "int64",
         "type": "integer"
        }
       ],
       "ref": "2f9b3a14-2b5d-4a61-8e90-aff504d92e0f",
       "rows": [
        [
         "1",
         "1031"
        ],
        [
         "0",
         "998"
        ]
       ],
       "shape": {
        "columns": 1,
        "rows": 2
       }
      },
      "text/plain": [
       "rule_violation\n",
       "1    1031\n",
       "0     998\n",
       "Name: count, dtype: int64"
      ]
     },
     "execution_count": 5,
     "metadata": {},
     "output_type": "execute_result"
    }
   ],
   "source": [
    "df['rule_violation'].value_counts()"
   ]
  },
  {
   "cell_type": "markdown",
   "id": "de5d9d05",
   "metadata": {},
   "source": [
    "### Splitting data into train and test"
   ]
  },
  {
   "cell_type": "code",
   "execution_count": 30,
   "id": "aa5b5511",
   "metadata": {},
   "outputs": [],
   "source": [
    "train_df, test_df = train_test_split(\n",
    "    df,\n",
    "    test_size=0.2,\n",
    "    random_state=42,\n",
    "    stratify=df['label']\n",
    ")"
   ]
  },
  {
   "cell_type": "code",
   "execution_count": 31,
   "id": "d574990f",
   "metadata": {},
   "outputs": [],
   "source": [
    "train_dataset = Dataset.from_pandas(train_df)\n",
    "test_dataset = Dataset.from_pandas(test_df)\n"
   ]
  },
  {
   "cell_type": "code",
   "execution_count": 32,
   "id": "a80630cd",
   "metadata": {},
   "outputs": [],
   "source": [
    "tokenizer = AutoTokenizer.from_pretrained(\"distilbert-base-uncased\")"
   ]
  },
  {
   "cell_type": "code",
   "execution_count": 33,
   "id": "3548d50e",
   "metadata": {},
   "outputs": [],
   "source": [
    "def tokenize_function(examples):\n",
    "    texts = [\" \".join([examples[col][i] for col in features]) for i in range(len(examples[features[0]]))]\n",
    "    return tokenizer(texts, padding=\"max_length\", truncation=True)"
   ]
  },
  {
   "cell_type": "code",
   "execution_count": 34,
   "id": "bc507a0c",
   "metadata": {},
   "outputs": [
    {
     "data": {
      "application/vnd.jupyter.widget-view+json": {
       "model_id": "b0d9bf80fe314da99a4a4dc4312de0d5",
       "version_major": 2,
       "version_minor": 0
      },
      "text/plain": [
       "Map:   0%|          | 0/1623 [00:00<?, ? examples/s]"
      ]
     },
     "metadata": {},
     "output_type": "display_data"
    },
    {
     "data": {
      "application/vnd.jupyter.widget-view+json": {
       "model_id": "73d1dfbeb62b459e81f40ad55a0947ba",
       "version_major": 2,
       "version_minor": 0
      },
      "text/plain": [
       "Map:   0%|          | 0/406 [00:00<?, ? examples/s]"
      ]
     },
     "metadata": {},
     "output_type": "display_data"
    }
   ],
   "source": [
    "# Apply the tokenization to our datasets\n",
    "tokenized_train_dataset = train_dataset.map(tokenize_function, batched=True)\n",
    "tokenized_test_dataset = test_dataset.map(tokenize_function, batched=True)"
   ]
  },
  {
   "cell_type": "code",
   "execution_count": 35,
   "id": "ff915c65",
   "metadata": {},
   "outputs": [
    {
     "data": {
      "text/plain": [
       "(1623, 11)"
      ]
     },
     "execution_count": 35,
     "metadata": {},
     "output_type": "execute_result"
    }
   ],
   "source": [
    "tokenized_train_dataset.shape"
   ]
  },
  {
   "cell_type": "code",
   "execution_count": 36,
   "id": "97a81477",
   "metadata": {},
   "outputs": [
    {
     "data": {
      "text/plain": [
       "['body',\n",
       " 'rule',\n",
       " 'subreddit',\n",
       " 'positive_example_1',\n",
       " 'positive_example_2',\n",
       " 'negative_example_1',\n",
       " 'negative_example_2',\n",
       " 'label',\n",
       " '__index_level_0__',\n",
       " 'input_ids',\n",
       " 'attention_mask']"
      ]
     },
     "execution_count": 36,
     "metadata": {},
     "output_type": "execute_result"
    }
   ],
   "source": [
    "tokenized_train_dataset.column_names"
   ]
  },
  {
   "cell_type": "code",
   "execution_count": 37,
   "id": "51b40e9f",
   "metadata": {},
   "outputs": [
    {
     "data": {
      "text/plain": [
       "datasets.arrow_dataset.Dataset"
      ]
     },
     "execution_count": 37,
     "metadata": {},
     "output_type": "execute_result"
    }
   ],
   "source": [
    "type(tokenized_train_dataset)"
   ]
  },
  {
   "cell_type": "code",
   "execution_count": 38,
   "id": "7293708d",
   "metadata": {},
   "outputs": [
    {
     "name": "stderr",
     "output_type": "stream",
     "text": [
      "Some weights of DistilBertForSequenceClassification were not initialized from the model checkpoint at distilbert-base-uncased and are newly initialized: ['classifier.bias', 'classifier.weight', 'pre_classifier.bias', 'pre_classifier.weight']\n",
      "You should probably TRAIN this model on a down-stream task to be able to use it for predictions and inference.\n"
     ]
    }
   ],
   "source": [
    "model = AutoModelForSequenceClassification.from_pretrained(\"distilbert-base-uncased\", num_labels=2)"
   ]
  },
  {
   "cell_type": "code",
   "execution_count": 39,
   "id": "283338a3",
   "metadata": {},
   "outputs": [],
   "source": [
    "metric = evaluate.load(\"accuracy\")"
   ]
  },
  {
   "cell_type": "code",
   "execution_count": 40,
   "id": "43a10be2",
   "metadata": {},
   "outputs": [],
   "source": [
    "def compute_metrics(eval_pred):\n",
    "    logits, labels = eval_pred\n",
    "    predictions = np.argmax(logits, axis=-1)\n",
    "    return metric.compute(predictions=predictions, references=labels)"
   ]
  },
  {
   "cell_type": "markdown",
   "id": "997f4232",
   "metadata": {},
   "source": [
    "### Setting Hyperparameters and Training the Model"
   ]
  },
  {
   "cell_type": "code",
   "execution_count": 41,
   "id": "e117a423",
   "metadata": {},
   "outputs": [],
   "source": [
    "training_args = TrainingArguments(\n",
    "    output_dir=\"comment_violation_classifier\",\n",
    "    learning_rate=2e-5,\n",
    "    per_device_train_batch_size=16,\n",
    "    per_device_eval_batch_size=16,\n",
    "    num_train_epochs=2,\n",
    "    weight_decay=0.01,\n",
    "    save_strategy=\"epoch\",\n",
    "    eval_strategy=\"epoch\",\n",
    "    load_best_model_at_end=True\n",
    ")"
   ]
  },
  {
   "cell_type": "code",
   "execution_count": 42,
   "id": "eb9deddd",
   "metadata": {},
   "outputs": [
    {
     "name": "stderr",
     "output_type": "stream",
     "text": [
      "C:\\Users\\HP\\AppData\\Local\\Temp\\ipykernel_23332\\3788975122.py:1: FutureWarning: `tokenizer` is deprecated and will be removed in version 5.0.0 for `Trainer.__init__`. Use `processing_class` instead.\n",
      "  trainer = Trainer(\n"
     ]
    }
   ],
   "source": [
    "trainer = Trainer(\n",
    "    model=model,\n",
    "    args=training_args,\n",
    "    train_dataset=tokenized_train_dataset,\n",
    "    eval_dataset=tokenized_test_dataset,\n",
    "    tokenizer=tokenizer,\n",
    "    compute_metrics=compute_metrics,\n",
    ")"
   ]
  },
  {
   "cell_type": "markdown",
   "id": "0d6116ad",
   "metadata": {},
   "source": [
    "### Start the training process"
   ]
  },
  {
   "cell_type": "code",
   "execution_count": 43,
   "id": "8d2eab8c",
   "metadata": {},
   "outputs": [
    {
     "name": "stderr",
     "output_type": "stream",
     "text": [
      "d:\\Anaconda\\Lib\\site-packages\\torch\\utils\\data\\dataloader.py:665: UserWarning: 'pin_memory' argument is set as true but no accelerator is found, then device pinned memory won't be used.\n",
      "  warnings.warn(warn_msg)\n"
     ]
    },
    {
     "data": {
      "text/html": [
       "\n",
       "    <div>\n",
       "      \n",
       "      <progress value='204' max='204' style='width:300px; height:20px; vertical-align: middle;'></progress>\n",
       "      [204/204 52:53, Epoch 2/2]\n",
       "    </div>\n",
       "    <table border=\"1\" class=\"dataframe\">\n",
       "  <thead>\n",
       " <tr style=\"text-align: left;\">\n",
       "      <th>Epoch</th>\n",
       "      <th>Training Loss</th>\n",
       "      <th>Validation Loss</th>\n",
       "      <th>Accuracy</th>\n",
       "    </tr>\n",
       "  </thead>\n",
       "  <tbody>\n",
       "    <tr>\n",
       "      <td>1</td>\n",
       "      <td>No log</td>\n",
       "      <td>0.585114</td>\n",
       "      <td>0.709360</td>\n",
       "    </tr>\n",
       "    <tr>\n",
       "      <td>2</td>\n",
       "      <td>No log</td>\n",
       "      <td>0.548802</td>\n",
       "      <td>0.701970</td>\n",
       "    </tr>\n",
       "  </tbody>\n",
       "</table><p>"
      ],
      "text/plain": [
       "<IPython.core.display.HTML object>"
      ]
     },
     "metadata": {},
     "output_type": "display_data"
    },
    {
     "name": "stderr",
     "output_type": "stream",
     "text": [
      "d:\\Anaconda\\Lib\\site-packages\\torch\\utils\\data\\dataloader.py:665: UserWarning: 'pin_memory' argument is set as true but no accelerator is found, then device pinned memory won't be used.\n",
      "  warnings.warn(warn_msg)\n"
     ]
    },
    {
     "data": {
      "text/plain": [
       "TrainOutput(global_step=204, training_loss=0.6042084787406173, metrics={'train_runtime': 3184.544, 'train_samples_per_second': 1.019, 'train_steps_per_second': 0.064, 'total_flos': 429989176037376.0, 'train_loss': 0.6042084787406173, 'epoch': 2.0})"
      ]
     },
     "execution_count": 43,
     "metadata": {},
     "output_type": "execute_result"
    }
   ],
   "source": [
    "trainer.train()"
   ]
  },
  {
   "cell_type": "code",
   "execution_count": 44,
   "id": "15d25429",
   "metadata": {},
   "outputs": [],
   "source": [
    "# Save the final model\n",
    "trainer.save_model(\"comment_violation_classifier_model\")"
   ]
  },
  {
   "cell_type": "markdown",
   "id": "8ce3c55d",
   "metadata": {},
   "source": [
    "### Evaluating the model"
   ]
  },
  {
   "cell_type": "code",
   "execution_count": 45,
   "id": "60109ae1",
   "metadata": {},
   "outputs": [
    {
     "name": "stdout",
     "output_type": "stream",
     "text": [
      "Evaluating on the training set...\n"
     ]
    },
    {
     "name": "stderr",
     "output_type": "stream",
     "text": [
      "d:\\Anaconda\\Lib\\site-packages\\torch\\utils\\data\\dataloader.py:665: UserWarning: 'pin_memory' argument is set as true but no accelerator is found, then device pinned memory won't be used.\n",
      "  warnings.warn(warn_msg)\n"
     ]
    },
    {
     "data": {
      "text/html": [],
      "text/plain": [
       "<IPython.core.display.HTML object>"
      ]
     },
     "metadata": {},
     "output_type": "display_data"
    },
    {
     "name": "stdout",
     "output_type": "stream",
     "text": [
      "              precision    recall  f1-score   support\n",
      "\n",
      "           0       0.82      0.67      0.74       798\n",
      "           1       0.73      0.86      0.79       825\n",
      "\n",
      "    accuracy                           0.76      1623\n",
      "   macro avg       0.77      0.76      0.76      1623\n",
      "weighted avg       0.77      0.76      0.76      1623\n",
      "\n",
      "Evaluating on the testing set...\n"
     ]
    },
    {
     "name": "stderr",
     "output_type": "stream",
     "text": [
      "d:\\Anaconda\\Lib\\site-packages\\torch\\utils\\data\\dataloader.py:665: UserWarning: 'pin_memory' argument is set as true but no accelerator is found, then device pinned memory won't be used.\n",
      "  warnings.warn(warn_msg)\n"
     ]
    },
    {
     "data": {
      "text/html": [],
      "text/plain": [
       "<IPython.core.display.HTML object>"
      ]
     },
     "metadata": {},
     "output_type": "display_data"
    },
    {
     "name": "stdout",
     "output_type": "stream",
     "text": [
      "              precision    recall  f1-score   support\n",
      "\n",
      "           0       0.74      0.61      0.67       200\n",
      "           1       0.68      0.79      0.73       206\n",
      "\n",
      "    accuracy                           0.70       406\n",
      "   macro avg       0.71      0.70      0.70       406\n",
      "weighted avg       0.71      0.70      0.70       406\n",
      "\n"
     ]
    }
   ],
   "source": [
    "# Evaluate on the training set\n",
    "print(\"Evaluating on the training set...\")\n",
    "train_predictions = trainer.predict(tokenized_train_dataset)\n",
    "train_preds = np.argmax(train_predictions.predictions, axis=-1)\n",
    "print(classification_report(train_df['label'], train_preds))\n",
    "\n",
    "# Evaluate on the testing set\n",
    "print(\"Evaluating on the testing set...\")\n",
    "test_predictions = trainer.predict(tokenized_test_dataset)\n",
    "test_preds = np.argmax(test_predictions.predictions, axis=-1)\n",
    "print(classification_report(test_df['label'], test_preds))"
   ]
  },
  {
   "cell_type": "markdown",
   "id": "80f96a54",
   "metadata": {},
   "source": [
    "### Predict test data"
   ]
  },
  {
   "cell_type": "code",
   "execution_count": 46,
   "id": "55139145",
   "metadata": {},
   "outputs": [
    {
     "data": {
      "application/vnd.microsoft.datawrangler.viewer.v0+json": {
       "columns": [
        {
         "name": "index",
         "rawType": "int64",
         "type": "integer"
        },
        {
         "name": "row_id",
         "rawType": "int64",
         "type": "integer"
        },
        {
         "name": "body",
         "rawType": "object",
         "type": "string"
        },
        {
         "name": "rule",
         "rawType": "object",
         "type": "string"
        },
        {
         "name": "subreddit",
         "rawType": "object",
         "type": "string"
        },
        {
         "name": "positive_example_1",
         "rawType": "object",
         "type": "string"
        },
        {
         "name": "positive_example_2",
         "rawType": "object",
         "type": "string"
        },
        {
         "name": "negative_example_1",
         "rawType": "object",
         "type": "string"
        },
        {
         "name": "negative_example_2",
         "rawType": "object",
         "type": "string"
        }
       ],
       "ref": "2b29e3ba-0d4d-4640-9db1-dcf23ac45b23",
       "rows": [
        [
         "0",
         "2029",
         "NEW RAP GROUP 17. CHECK US OUT https://soundcloud.com/user-125895482",
         "No Advertising: Spam, referral links, unsolicited advertising, and promotional content are not allowed.",
         "hiphopheads",
         "Hey, guys, just wanted to drop in and invite you to my Pokémon cards/TCG Discord server:  https://discord.gg/S9SbGSe \n\nEveryone is welcome, and don't forget to bring your love for Pokémon!",
         "Cum Swallowing Hottie Katrina Kaif Cartoon Xvideo18+\nhttps://youtu.be/0FwHHqCPrag",
         "SD Stream Eng - [Chelsea TV USA](http://soccerstreamsarena.com/chelsea-u23-vs-tottenham-u23-live-epl2-09-sep-2016/) \n\nMobile : Compatible With Android Puffin Browser",
         "HD Streams: |[ENG HD Stoke vs Manchester United](http://livesport360.net/stoke-city-vs-manchester-united-2-n2173) Ad Overlays: 1 Mobile: Yes"
        ],
        [
         "1",
         "2030",
         "Make your life comfortable. Get up to 15% Discount. Pain killers Like Roxycodone, Hydrocodone, Codeine, Percocet, Hydrocodone, Oxycodone and Lortab. Also get full treatment of Depression, Insomnia and other such problems with Adderall, Ativan, **[Xanax](http://onestoppharma.org)**, Mogadon, Modafinil and Many Others Treatments Online **Without Prescription at [onestoppharma.org](http://onestoppharma.org)**",
         "No legal advice: Do not offer or request legal advice.",
         "AskReddit",
         "Get a lawyer and get the security camera footage of the entire store for that day. Maybe someone put the ingredient in her salad on purpose because they knew she was allergic. They could be charged with manslaughter. However, this is very unlikely.",
         "That isn't drastic. You tried reaching out to her directly. She avoided your calls/texts, and HUNG UP ON YOU as soon as she realized it was your voice on her work line.  \n\nBitch stole your puppy - a puppy that you are raising to be sold for profit. Effectively, she stole your property.  \n\nCall the police. ASAP.",
         "So what are you going to do with the insurance money when the house \"accidentally\" burns down?",
         "It's just for Austria & Germany. If you still need it, drop me a PM. I'm not sure if I'm allowed to name it here."
        ],
        [
         "2",
         "2031",
         "Kickin' ass and selling underwear!\nJust made my account last night. You guys should do the same and follow up on my photos and more 😘\n\n\n[find me here❤️](http://www.pantydeal.com/member/Ineffable) ",
         "No Advertising: Spam, referral links, unsolicited advertising, and promotional content are not allowed.",
         "gonewild",
         "Good story my friend. Check out my blog at  http://www.ink2quill.com/",
         "If you know what exactly you need then you don't needa prescription. You can buy it online. I buy every medication I need during last 3 years online and can recommend it. http://cheapmarketmeds.com/ is a pharmacy where you can find high-quality Wellbutrin.",
         "CENTIPEDES\n\nSOME BASED PATRIOTS HAVE CREATED A BASED NEW SUB FOR THE_DON CONTENT\n\nhttps://www.reddit.com/r/The_Uncensored_Donald/\n\nIF YOU WANT FRESH CONTENT, KEK BLESSINGS AND MORE HIGH ENERGY DELIVERED TO YOU PAY THEM A VISIT AND SHITPOST THERE FOR STICKING IT TO A CERTAIN EDITING CANNIBAL",
         "[So great! Thanks for sharing.](http://www.cheapsexynightgirls.com/2014/03/zoya-independent-call-girls-in-dubai.html)"
        ],
        [
         "3",
         "2032",
         " watch  hooters  best  therein  http://clickand.co/5agw-",
         "No Advertising: Spam, referral links, unsolicited advertising, and promotional content are not allowed.",
         "personalfinance",
         "Earn 50,000 bonus points with Chase Sapphire Preferred®. Learn more at  https://applynow.chase.com/FlexAppWeb/renderApp.do?PID=CFFD2&SPID=FHRJ&CELL=600V&MSC=1532571015 #sponsored",
         "Cool, front page! I made this print along with a lot of other science and spaced themed stuff you can find here: http://2046printshop.com/\nIf you really want the Apollo print you can PM me, if I get enough requests I'll make another run of it.",
         "[Full HD Movie Online Free](http://www.flickmaza.com/)",
         "* Karambit Black Pearl\n* 0.02137822 Float (unfortunate corner)\n* Non-Duped\n* Screenshot - http://imgur.com/a/Zvy5D\n* Metjm - http://s.metjm.net/0XymKVi.jpg\n* B/O - 500+ keys (Very Negotiable)\n* PC (500 keys) - https://imgur.com/a/5IWM3\n* C/O (485) - https://imgur.com/a/zgexV\n* My steam Acc. - https://steamcommunity.com/id/OfficialSnuffy/\n* Send me an offer here:\n* https://steamcommunity.com/tradeoffer/new/?partner=154014229&token=npsf8rwb"
        ],
        [
         "4",
         "2033",
         " bitches  for free  at this point  show all  http://ur.my/212hg",
         "No Advertising: Spam, referral links, unsolicited advertising, and promotional content are not allowed.",
         "Showerthoughts",
         "code free tyrande --->>> [Imgur](http://i.imgur.com/KlvssCl.png)\n\nfor you and your friend 2 codes for 4 dollars https://www.paypal.com/cgi-bin/webscr?cmd=_s-xclick&hosted_button_id=UN4E27AG7BWKS\n\n2$... buy one directly from here: https://www.paypal.com/cgi-bin/webscr?cmd=_s-xclick&hosted_button_id=VP3S5HQRE7T7E\n",
         "My trade link\nhttps://steamcommunity.com/tradeoffer/new/?partner=120138057&token=oswPVc-d",
         "**HD** [ mio Stadium 102 HD](http://www.genti.stream/hd3.php) | Mobile Compatible\n",
         "Infographics is an incredible method for showing your businesses focal points. My newly created infographic is for Workers Compensation Lawyer Philadelphia, who are using it to advertise their business highlights in a clear and concise design.visit http://www.workerscompensationlawyer-philadelphia.com/ for more\n"
        ]
       ],
       "shape": {
        "columns": 8,
        "rows": 5
       }
      },
      "text/html": [
       "<div>\n",
       "<style scoped>\n",
       "    .dataframe tbody tr th:only-of-type {\n",
       "        vertical-align: middle;\n",
       "    }\n",
       "\n",
       "    .dataframe tbody tr th {\n",
       "        vertical-align: top;\n",
       "    }\n",
       "\n",
       "    .dataframe thead th {\n",
       "        text-align: right;\n",
       "    }\n",
       "</style>\n",
       "<table border=\"1\" class=\"dataframe\">\n",
       "  <thead>\n",
       "    <tr style=\"text-align: right;\">\n",
       "      <th></th>\n",
       "      <th>row_id</th>\n",
       "      <th>body</th>\n",
       "      <th>rule</th>\n",
       "      <th>subreddit</th>\n",
       "      <th>positive_example_1</th>\n",
       "      <th>positive_example_2</th>\n",
       "      <th>negative_example_1</th>\n",
       "      <th>negative_example_2</th>\n",
       "    </tr>\n",
       "  </thead>\n",
       "  <tbody>\n",
       "    <tr>\n",
       "      <th>0</th>\n",
       "      <td>2029</td>\n",
       "      <td>NEW RAP GROUP 17. CHECK US OUT https://soundcl...</td>\n",
       "      <td>No Advertising: Spam, referral links, unsolici...</td>\n",
       "      <td>hiphopheads</td>\n",
       "      <td>Hey, guys, just wanted to drop in and invite y...</td>\n",
       "      <td>Cum Swallowing Hottie Katrina Kaif Cartoon Xvi...</td>\n",
       "      <td>SD Stream Eng - [Chelsea TV USA](http://soccer...</td>\n",
       "      <td>HD Streams: |[ENG HD Stoke vs Manchester Unite...</td>\n",
       "    </tr>\n",
       "    <tr>\n",
       "      <th>1</th>\n",
       "      <td>2030</td>\n",
       "      <td>Make your life comfortable. Get up to 15% Disc...</td>\n",
       "      <td>No legal advice: Do not offer or request legal...</td>\n",
       "      <td>AskReddit</td>\n",
       "      <td>Get a lawyer and get the security camera foota...</td>\n",
       "      <td>That isn't drastic. You tried reaching out to ...</td>\n",
       "      <td>So what are you going to do with the insurance...</td>\n",
       "      <td>It's just for Austria &amp; Germany. If you still ...</td>\n",
       "    </tr>\n",
       "    <tr>\n",
       "      <th>2</th>\n",
       "      <td>2031</td>\n",
       "      <td>Kickin' ass and selling underwear!\\nJust made ...</td>\n",
       "      <td>No Advertising: Spam, referral links, unsolici...</td>\n",
       "      <td>gonewild</td>\n",
       "      <td>Good story my friend. Check out my blog at  ht...</td>\n",
       "      <td>If you know what exactly you need then you don...</td>\n",
       "      <td>CENTIPEDES\\n\\nSOME BASED PATRIOTS HAVE CREATED...</td>\n",
       "      <td>[So great! Thanks for sharing.](http://www.che...</td>\n",
       "    </tr>\n",
       "    <tr>\n",
       "      <th>3</th>\n",
       "      <td>2032</td>\n",
       "      <td>watch  hooters  best  therein  http://clickan...</td>\n",
       "      <td>No Advertising: Spam, referral links, unsolici...</td>\n",
       "      <td>personalfinance</td>\n",
       "      <td>Earn 50,000 bonus points with Chase Sapphire P...</td>\n",
       "      <td>Cool, front page! I made this print along with...</td>\n",
       "      <td>[Full HD Movie Online Free](http://www.flickma...</td>\n",
       "      <td>* Karambit Black Pearl\\n* 0.02137822 Float (un...</td>\n",
       "    </tr>\n",
       "    <tr>\n",
       "      <th>4</th>\n",
       "      <td>2033</td>\n",
       "      <td>bitches  for free  at this point  show all  h...</td>\n",
       "      <td>No Advertising: Spam, referral links, unsolici...</td>\n",
       "      <td>Showerthoughts</td>\n",
       "      <td>code free tyrande ---&gt;&gt;&gt; [Imgur](http://i.imgu...</td>\n",
       "      <td>My trade link\\nhttps://steamcommunity.com/trad...</td>\n",
       "      <td>**HD** [ mio Stadium 102 HD](http://www.genti....</td>\n",
       "      <td>Infographics is an incredible method for showi...</td>\n",
       "    </tr>\n",
       "  </tbody>\n",
       "</table>\n",
       "</div>"
      ],
      "text/plain": [
       "   row_id                                               body  \\\n",
       "0    2029  NEW RAP GROUP 17. CHECK US OUT https://soundcl...   \n",
       "1    2030  Make your life comfortable. Get up to 15% Disc...   \n",
       "2    2031  Kickin' ass and selling underwear!\\nJust made ...   \n",
       "3    2032   watch  hooters  best  therein  http://clickan...   \n",
       "4    2033   bitches  for free  at this point  show all  h...   \n",
       "\n",
       "                                                rule        subreddit  \\\n",
       "0  No Advertising: Spam, referral links, unsolici...      hiphopheads   \n",
       "1  No legal advice: Do not offer or request legal...        AskReddit   \n",
       "2  No Advertising: Spam, referral links, unsolici...         gonewild   \n",
       "3  No Advertising: Spam, referral links, unsolici...  personalfinance   \n",
       "4  No Advertising: Spam, referral links, unsolici...   Showerthoughts   \n",
       "\n",
       "                                  positive_example_1  \\\n",
       "0  Hey, guys, just wanted to drop in and invite y...   \n",
       "1  Get a lawyer and get the security camera foota...   \n",
       "2  Good story my friend. Check out my blog at  ht...   \n",
       "3  Earn 50,000 bonus points with Chase Sapphire P...   \n",
       "4  code free tyrande --->>> [Imgur](http://i.imgu...   \n",
       "\n",
       "                                  positive_example_2  \\\n",
       "0  Cum Swallowing Hottie Katrina Kaif Cartoon Xvi...   \n",
       "1  That isn't drastic. You tried reaching out to ...   \n",
       "2  If you know what exactly you need then you don...   \n",
       "3  Cool, front page! I made this print along with...   \n",
       "4  My trade link\\nhttps://steamcommunity.com/trad...   \n",
       "\n",
       "                                  negative_example_1  \\\n",
       "0  SD Stream Eng - [Chelsea TV USA](http://soccer...   \n",
       "1  So what are you going to do with the insurance...   \n",
       "2  CENTIPEDES\\n\\nSOME BASED PATRIOTS HAVE CREATED...   \n",
       "3  [Full HD Movie Online Free](http://www.flickma...   \n",
       "4  **HD** [ mio Stadium 102 HD](http://www.genti....   \n",
       "\n",
       "                                  negative_example_2  \n",
       "0  HD Streams: |[ENG HD Stoke vs Manchester Unite...  \n",
       "1  It's just for Austria & Germany. If you still ...  \n",
       "2  [So great! Thanks for sharing.](http://www.che...  \n",
       "3  * Karambit Black Pearl\\n* 0.02137822 Float (un...  \n",
       "4  Infographics is an incredible method for showi...  "
      ]
     },
     "execution_count": 46,
     "metadata": {},
     "output_type": "execute_result"
    }
   ],
   "source": [
    "# Load the test data\n",
    "new_test_df = pd.read_csv(\"../data/test.csv\")\n",
    "new_test_df.head()"
   ]
  },
  {
   "cell_type": "code",
   "execution_count": 47,
   "id": "09c3a154",
   "metadata": {},
   "outputs": [
    {
     "data": {
      "application/vnd.jupyter.widget-view+json": {
       "model_id": "f34329dbd9bd4a40b1bcfd42f71254a5",
       "version_major": 2,
       "version_minor": 0
      },
      "text/plain": [
       "Map:   0%|          | 0/10 [00:00<?, ? examples/s]"
      ]
     },
     "metadata": {},
     "output_type": "display_data"
    },
    {
     "name": "stderr",
     "output_type": "stream",
     "text": [
      "d:\\Anaconda\\Lib\\site-packages\\torch\\utils\\data\\dataloader.py:665: UserWarning: 'pin_memory' argument is set as true but no accelerator is found, then device pinned memory won't be used.\n",
      "  warnings.warn(warn_msg)\n"
     ]
    },
    {
     "data": {
      "text/html": [],
      "text/plain": [
       "<IPython.core.display.HTML object>"
      ]
     },
     "metadata": {},
     "output_type": "display_data"
    }
   ],
   "source": [
    "new_test_df = new_test_df.drop(columns=[\"row_id\"])\n",
    "\n",
    "# Tokenize the new test data\n",
    "def tokenize_new_test(examples):\n",
    "    texts = [\" \".join([examples[col][i] for col in features]) for i in range(len(examples[features[0]]))]\n",
    "    return tokenizer(texts, padding=\"max_length\", truncation=True)\n",
    "\n",
    "new_test_dataset = Dataset.from_pandas(new_test_df)\n",
    "tokenized_new_test_dataset = new_test_dataset.map(tokenize_new_test, batched=True)\n",
    "\n",
    "# Predict using the trained model\n",
    "new_test_predictions = trainer.predict(tokenized_new_test_dataset)\n",
    "new_test_preds = np.argmax(new_test_predictions.predictions, axis=-1)\n",
    "\n",
    "# If you want to save predictions to a CSV\n",
    "new_test_df[\"predicted_label\"] = new_test_preds\n",
    "new_test_df.to_csv(\"test_predictions.csv\", index=False)"
   ]
  },
  {
   "cell_type": "code",
   "execution_count": null,
   "id": "8519da69",
   "metadata": {},
   "outputs": [],
   "source": []
  },
  {
   "cell_type": "code",
   "execution_count": null,
   "id": "ebe86005",
   "metadata": {},
   "outputs": [],
   "source": []
  }
 ],
 "metadata": {
  "kernelspec": {
   "display_name": "base",
   "language": "python",
   "name": "python3"
  },
  "language_info": {
   "codemirror_mode": {
    "name": "ipython",
    "version": 3
   },
   "file_extension": ".py",
   "mimetype": "text/x-python",
   "name": "python",
   "nbconvert_exporter": "python",
   "pygments_lexer": "ipython3",
   "version": "3.12.7"
  }
 },
 "nbformat": 4,
 "nbformat_minor": 5
}
